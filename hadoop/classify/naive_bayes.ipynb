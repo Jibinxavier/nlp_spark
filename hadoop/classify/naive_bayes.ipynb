{
 "cells": [
  {
   "cell_type": "code",
   "execution_count": 1,
   "metadata": {},
   "outputs": [],
   "source": [
    "import findspark\n",
    "# my local spark install\n",
    "findspark.init('/Users/dreyco676/spark-1.6.0-bin-hadoop2.6/')\n",
    "\n",
    "import pyspark\n",
    "from pyspark.sql import SQLContext\n",
    "from pyspark.sql.functions import udf\n",
    "from pyspark.sql.types import *\n",
    "from pyspark.ml.feature import HashingTF, IDF, Tokenizer\n",
    "from pyspark.ml import Pipeline\n",
    "from pyspark.ml.classification import NaiveBayes\n",
    "from pyspark.ml.feature import HashingTF, Tokenizer\n",
    "from pyspark.sql import Row\n",
    "\n",
    "sc = pyspark.SparkContext()\n",
    "sqlContext = SQLContext(sc)"
   ]
  },
  {
   "cell_type": "code",
   "execution_count": 2,
   "metadata": {},
   "outputs": [],
   "source": [
    "# Load a text file and convert each line to a Row.\n",
    "lines = sc.textFile(\"/Users/dreyco676/nlp_spark/data/cleaned_training.txt\")\n",
    "parts = lines.map(lambda l: l.split(\"\\t\"))\n",
    "# Filter bad rows out\n",
    "garantee_col = parts.filter(lambda l: len(l) == 3)\n",
    "training = garantee_col.map(lambda p: (p[0], p[1], p[2]))\n",
    "# Create DataFrame\n",
    "text_label_df = sqlContext.createDataFrame(training, [\"text\", \"id\", \"text_label\"])"
   ]
  },
  {
   "cell_type": "code",
   "execution_count": 3,
   "metadata": {},
   "outputs": [
    {
     "name": "stdout",
     "output_type": "stream",
     "text": [
      "+------------------+--------------------+-----+\n|                id|                text|label|\n+------------------+--------------------+-----+\n|514511437985611776|best option manov...|  0.0|\n|492887601045467137|curated list awes...|  0.0|\n|464730495213768704|python data analy...|  0.0|\n|443215773168066560|checked text spee...|  0.0|\n|443004371425849344|openscience pytho...|  0.0|\n+------------------+--------------------+-----+\nonly showing top 5 rows\n\n"
     ]
    }
   ],
   "source": [
    "# convert the text label into a numeric one\n",
    "def numeric_label(data_str):\n",
    "    lower_str = data_str.lower()\n",
    "    if lower_str == 'python':\n",
    "        label = 0.0\n",
    "    elif lower_str == 'hadoop':\n",
    "        label = 1.0\n",
    "    elif lower_str == 'datasci':\n",
    "        label = 2.0\n",
    "    else:\n",
    "        label = 3.0\n",
    "    return label\n",
    "\n",
    "numeric_label_udf = udf(numeric_label, DoubleType())\n",
    "\n",
    "num_label_df = text_label_df.withColumn(\"label\", numeric_label_udf(text_label_df['text_label']))\n",
    "training_df = num_label_df.select(num_label_df['id'], num_label_df['text'], num_label_df['label'])\n",
    "training_df.show(5)"
   ]
  },
  {
   "cell_type": "code",
   "execution_count": 6,
   "metadata": {},
   "outputs": [
    {
     "ename": "AttributeError",
     "evalue": "'NaiveBayes' object has no attribute 'pi'",
     "output_type": "error",
     "traceback": [
      "\u001b[0;31m---------------------------------------------------------------------------\u001b[0m",
      "\u001b[0;31mAttributeError\u001b[0m                            Traceback (most recent call last)",
      "\u001b[0;32m<ipython-input-6-8bd721b5aa81>\u001b[0m in \u001b[0;36m<module>\u001b[0;34m()\u001b[0m\n\u001b[1;32m      7\u001b[0m \u001b[0;31m# Fit the pipeline to training documents.\u001b[0m\u001b[0;34m\u001b[0m\u001b[0;34m\u001b[0m\u001b[0m\n\u001b[1;32m      8\u001b[0m \u001b[0mmodel\u001b[0m \u001b[0;34m=\u001b[0m \u001b[0mpipeline\u001b[0m\u001b[0;34m.\u001b[0m\u001b[0mfit\u001b[0m\u001b[0;34m(\u001b[0m\u001b[0mtraining_df\u001b[0m\u001b[0;34m)\u001b[0m\u001b[0;34m\u001b[0m\u001b[0m\n\u001b[0;32m----> 9\u001b[0;31m \u001b[0mnb\u001b[0m\u001b[0;34m.\u001b[0m\u001b[0mpi\u001b[0m\u001b[0;34m\u001b[0m\u001b[0m\n\u001b[0m\u001b[1;32m     10\u001b[0m \u001b[0mnb\u001b[0m\u001b[0;34m.\u001b[0m\u001b[0mtheta\u001b[0m\u001b[0;34m\u001b[0m\u001b[0m\n",
      "\u001b[0;31mAttributeError\u001b[0m: 'NaiveBayes' object has no attribute 'pi'"
     ]
    }
   ],
   "source": [
    "# Configure an ML pipeline, which consists of tree stages: tokenizer, hashingTF, and lr.\n",
    "tokenizer = Tokenizer(inputCol=\"text\", outputCol=\"words\")\n",
    "hashingTF = HashingTF(inputCol=tokenizer.getOutputCol(), outputCol=\"features\")\n",
    "nb = NaiveBayes(smoothing=1.0, modelType=\"multinomial\")\n",
    "pipeline = Pipeline(stages=[tokenizer, hashingTF, nb])\n",
    "\n",
    "# Fit the pipeline to training documents.\n",
    "model = pipeline.fit(training_df)\n",
    "model.pi\n",
    "model.theta"
   ]
  },
  {
   "cell_type": "code",
   "execution_count": null,
   "metadata": {},
   "outputs": [],
   "source": [
    "# Prepare test documents, which are unlabeled (id, text) tuples.\n",
    "test_df = 0\n",
    "\n",
    "# Make predictions on test documents and print columns of interest.\n",
    "result = model.transform(test_df)\n",
    "result.prediction\n",
    "\n",
    "result.probability\n",
    "\n",
    "result.rawPrediction\n",
    "\n",
    "selected = result.select(\"id\", \"text\", \"prediction\")\n",
    "for row in selected.collect():\n",
    "    print(row)"
   ]
  }
 ],
 "metadata": {},
 "nbformat": 4,
 "nbformat_minor": 0
}