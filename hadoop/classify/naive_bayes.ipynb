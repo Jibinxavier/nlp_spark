{
 "cells": [
  {
   "cell_type": "code",
   "execution_count": 1,
   "metadata": {},
   "outputs": [],
   "source": [
    "import findspark\n",
    "# my local spark install\n",
    "findspark.init('/Users/dreyco676/spark-1.6.0-bin-hadoop2.6/')\n",
    "\n",
    "import pyspark\n",
    "from pyspark.sql import SQLContext\n",
    "from pyspark.sql.functions import udf\n",
    "from pyspark.sql.types import *\n",
    "from pyspark.ml.feature import HashingTF, IDF, Tokenizer\n",
    "from pyspark.ml import Pipeline\n",
    "from pyspark.ml.classification import NaiveBayes\n",
    "from pyspark.ml.feature import HashingTF, Tokenizer\n",
    "\n",
    "sc = pyspark.SparkContext()\n",
    "sqlContext = SQLContext(sc)"
   ]
  },
  {
   "cell_type": "code",
   "execution_count": 4,
   "metadata": {},
   "outputs": [],
   "source": [
    "# Load a text file and convert each line to a Row.\n",
    "lines = sc.textFile(\"/Users/dreyco676/nlp_spark/data/cleaned_training.txt\")\n",
    "parts = lines.map(lambda l: l.split(\"\\t\"))\n",
    "# Filter bad rows out\n",
    "garantee_col = parts.filter(lambda l: len(l) == 3)\n",
    "training = garantee_col.map(lambda p: (p[0], p[1], p[2]))\n",
    "# Create DataFrame\n",
    "text_label_df = sqlContext.createDataFrame(training, [\"text\", \"id\", \"text_label\"])"
   ]
  },
  {
   "cell_type": "code",
   "execution_count": 5,
   "metadata": {},
   "outputs": [],
   "source": [
    "# convert the text label into a numeric one\n",
    "def numeric_label(data_str):\n",
    "    lower_str = data_str.lower()\n",
    "    if lower_str == 'python':\n",
    "        label = 0.0\n",
    "    elif lower_str == 'hadoop':\n",
    "        label = 1.0\n",
    "    elif lower_str == 'datasci':\n",
    "        label = 2.0\n",
    "    else:\n",
    "        label = 3.0\n",
    "    return label\n",
    "\n",
    "numeric_label_udf = udf(numeric_label, DoubleType())\n",
    "\n",
    "num_label_df = text_label_df.withColumn(\"label\", numeric_label_udf(text_label_df['text_label']))\n",
    "data_set = num_label_df.select(num_label_df['id'], num_label_df['text'], num_label_df['label'])"
   ]
  },
  {
   "cell_type": "code",
   "execution_count": 9,
   "metadata": {},
   "outputs": [],
   "source": [
    "# split training & validation sets with 60% to training and use a seed value of 1987\n",
    "splits = data_set.randomSplit([0.6, 0.4], 1987)\n",
    "training_df = splits[0]\n",
    "test_df = splits[1]\n",
    "\n",
    "save_format = training_df.map(lambda row: str(row[0]+'\\t'+row[1]+'\\t'+str(row[2])))\n",
    "save_format.saveAsTextFile('data/clean_training_split')\n",
    "save_format = test_df.map(lambda row: str(row[0]+'\\t'+row[1]+'\\t'+str(row[2])))\n",
    "save_format.saveAsTextFile('data/clean_test_split')"
   ]
  },
  {
   "cell_type": "code",
   "execution_count": null,
   "metadata": {},
   "outputs": [],
   "source": [
    "# Configure an ML pipeline, which consists of tree stages: tokenizer, hashingTF, and nb.\n",
    "tokenizer = Tokenizer(inputCol=\"text\", outputCol=\"words\")\n",
    "hashingTF = HashingTF(inputCol=tokenizer.getOutputCol(), outputCol=\"features\")\n",
    "nb = NaiveBayes(smoothing=1.0, modelType=\"multinomial\")\n",
    "pipeline = Pipeline(stages=[tokenizer, hashingTF, nb])\n",
    "\n",
    "# Fit the pipeline to training documents.\n",
    "model = pipeline.fit(training_df)"
   ]
  },
  {
   "cell_type": "code",
   "execution_count": null,
   "metadata": {},
   "outputs": [],
   "source": [
    "# Make predictions on test documents and print columns of interest.\n",
    "result = model.transform(test_df)\n",
    "result.prediction\n",
    "\n",
    "result.probability\n",
    "\n",
    "result.rawPrediction\n",
    "\n",
    "selected = result.select(\"id\", \"text\", \"prediction\")\n",
    "for row in selected.collect():\n",
    "    print(row)"
   ]
  }
 ],
 "metadata": {},
 "nbformat": 4,
 "nbformat_minor": 0
}